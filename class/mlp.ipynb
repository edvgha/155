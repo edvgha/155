{
 "cells": [
  {
   "cell_type": "code",
   "execution_count": 1,
   "id": "5a06105c-4911-42d7-8705-4c3d70e5b02e",
   "metadata": {},
   "outputs": [
    {
     "data": {
      "text/plain": [
       "<torch._C.Generator at 0x723d2013b130>"
      ]
     },
     "execution_count": 1,
     "metadata": {},
     "output_type": "execute_result"
    }
   ],
   "source": [
    "import time\n",
    "import torch\n",
    "import torch.nn as nn\n",
    "from torch.utils.data import DataLoader, Dataset\n",
    "import matplotlib.pyplot as plt\n",
    "\n",
    "%matplotlib inline\n",
    "torch.manual_seed(1)"
   ]
  },
  {
   "cell_type": "code",
   "execution_count": 2,
   "id": "d30738d1-2ff7-4be7-8edc-ef147cf279a3",
   "metadata": {},
   "outputs": [],
   "source": [
    "class MLPDataset(Dataset):\n",
    "    def __init__(self, target_model, n_points):\n",
    "        self.target_model = target_model\n",
    "        self.n_points = n_points\n",
    "        self.n_val_points = int(self.n_points * 0.25)\n",
    "        with torch.no_grad():\n",
    "            self.output = self.target_model(self.__input())\n",
    "            self.val_output = self.target_model(self.__val_input())\n",
    "            print('train ds mean: ', self.output.mean(), ' std: ', self.output.std())\n",
    "            print('val ds mean: ', self.val_output.mean(), ' std: ', self.val_output.std())\n",
    "        \n",
    "    def __input(self):\n",
    "        self.input = 1.0 * torch.randn(self.n_points, self.__input_shape()) + 3.0\n",
    "        return self.input\n",
    "\n",
    "    def __val_input(self):\n",
    "        self.val_input = 1.0 * torch.randn(self.n_points, self.__input_shape()) + 3.0\n",
    "        return self.val_input\n",
    "        \n",
    "    def __input_shape(self):\n",
    "        first_parameter = next(self.target_model.parameters())\n",
    "        input_shape = first_parameter.size()\n",
    "        return input_shape[1]\n",
    "\n",
    "    def __len__(self):\n",
    "        return self.n_points\n",
    "\n",
    "    def __getitem__(self, index):\n",
    "        return self.input[index], self.output[index]\n",
    "\n",
    "    def plot(self):\n",
    "        x = self.input[:, 0].tolist()\n",
    "        y = self.input[:, 1].tolist()\n",
    "        z = self.output.squeeze().tolist()\n",
    "        fig = plt.figure(figsize=(20, 20))\n",
    "        ax = fig.add_subplot(projection='3d')\n",
    "        ax.scatter(x, y, z)\n",
    "        plt.show()\n",
    "        "
   ]
  },
  {
   "cell_type": "code",
   "execution_count": 3,
   "id": "cc550217-3c1c-4600-969b-db3166a8b281",
   "metadata": {},
   "outputs": [],
   "source": [
    "class Target(nn.Module):\n",
    "    def __init__(self, inp, out, hid, n_hidden, act):\n",
    "        super().__init__()\n",
    "\n",
    "        init_uniform_left = -3.0\n",
    "        init_uniform_right = 3.0\n",
    "        # activation\n",
    "        activation = nn.Tanh();\n",
    "        if act == 'relu':\n",
    "            activation = nn.ReLU()\n",
    "\n",
    "        # input layer\n",
    "        input_layer = nn.Linear(inp, hid)\n",
    "        self.layers = [input_layer, activation]\n",
    "\n",
    "        # hidden layers\n",
    "        for h in range(n_hidden):\n",
    "            hidden_layer = nn.Linear(hid, hid)\n",
    "            self.layers.append(hidden_layer)\n",
    "            self.layers.append(activation)\n",
    "\n",
    "        # output layer\n",
    "        output_layer = nn.Linear(hid, out)\n",
    "        self.layers.append(output_layer)\n",
    "\n",
    "        # init\n",
    "        for l in self.layers:\n",
    "            if isinstance(l, nn.Linear):\n",
    "                nn.init.uniform_(l.weight, init_uniform_left, init_uniform_right)\n",
    "\n",
    "        # model list\n",
    "        self.module_list = nn.ModuleList(self.layers)\n",
    "        print(self)\n",
    "\n",
    "    def forward(self, x):\n",
    "        for f in self.module_list:\n",
    "            x = f(x)\n",
    "        return x"
   ]
  },
  {
   "cell_type": "code",
   "execution_count": 4,
   "id": "0e9541c4-62db-428b-b9b7-44b5ae3a88ba",
   "metadata": {},
   "outputs": [
    {
     "name": "stdout",
     "output_type": "stream",
     "text": [
      "Target(\n",
      "  (module_list): ModuleList(\n",
      "    (0): Linear(in_features=4, out_features=4, bias=True)\n",
      "    (1): ReLU()\n",
      "    (2): Linear(in_features=4, out_features=4, bias=True)\n",
      "    (3): ReLU()\n",
      "    (4): Linear(in_features=4, out_features=4, bias=True)\n",
      "    (5): ReLU()\n",
      "    (6): Linear(in_features=4, out_features=4, bias=True)\n",
      "    (7): ReLU()\n",
      "    (8): Linear(in_features=4, out_features=4, bias=True)\n",
      "    (9): ReLU()\n",
      "    (10): Linear(in_features=4, out_features=4, bias=True)\n",
      "    (11): ReLU()\n",
      "    (12): Linear(in_features=4, out_features=4, bias=True)\n",
      "    (13): ReLU()\n",
      "    (14): Linear(in_features=4, out_features=4, bias=True)\n",
      "    (15): ReLU()\n",
      "    (16): Linear(in_features=4, out_features=4, bias=True)\n",
      "    (17): ReLU()\n",
      "    (18): Linear(in_features=4, out_features=4, bias=True)\n",
      "  )\n",
      ")\n",
      "train ds mean:  tensor(-327.6971)  std:  tensor(616.5906)\n",
      "val ds mean:  tensor(-329.5823)  std:  tensor(620.5104)\n"
     ]
    }
   ],
   "source": [
    "dataset = MLPDataset(Target(inp=4, out=4, hid=4, n_hidden=8, act='relu'), 7000)\n",
    "dataloader = DataLoader(dataset, batch_size=128, shuffle=True)"
   ]
  },
  {
   "cell_type": "code",
   "execution_count": 5,
   "id": "275fb79e-b251-4f02-a415-b28c6b63bdbc",
   "metadata": {},
   "outputs": [],
   "source": [
    "class MyModel(nn.Module):\n",
    "    def __init__(self, inp, out, hid, n_hidden, act, use_dp, use_bn):\n",
    "        super().__init__()\n",
    "        # dropout\n",
    "        dropout_prob = 0.25\n",
    "        \n",
    "        # activation\n",
    "        activation = nn.ReLU()\n",
    "        if act == 'tanh':\n",
    "            activation = nn.Tanh()\n",
    "\n",
    "        # layers\n",
    "        self.layers = []\n",
    "\n",
    "        # input layer\n",
    "        input_layer = nn.Linear(inp, hid)\n",
    "        self.layers.append(input_layer)\n",
    "        if use_dp:\n",
    "            dropout = nn.Dropout(dropout_prob)\n",
    "            self.layers.append(dropout)\n",
    "        self.layers.append(activation)\n",
    "        if use_bn:\n",
    "            bn = nn.BatchNorm1d(hid)\n",
    "            self.layers.append(bn)\n",
    "\n",
    "        # hidden layers\n",
    "        for h in range(n_hidden):\n",
    "            hidden = nn.Linear(hid, hid)\n",
    "            self.layers.append(hidden)\n",
    "            if use_dp:\n",
    "                dropout = nn.Dropout(dropout_prob)\n",
    "                self.layers.append(dropout)\n",
    "            self.layers.append(activation)\n",
    "            if use_bn:\n",
    "                bn = nn.BatchNorm1d(hid)\n",
    "                self.layers.append(bn)\n",
    "\n",
    "        # output layer\n",
    "        output_layer = nn.Linear(hid, out)\n",
    "        self.layers.append(output_layer)\n",
    "\n",
    "        # init\n",
    "        for l in self.layers:\n",
    "            if isinstance(l, nn.Linear):\n",
    "                nn.init.kaiming_uniform_(l.weight, mode='fan_in')\n",
    "\n",
    "        # model list\n",
    "        self.module_list = nn.ModuleList(self.layers)\n",
    "        print(self)\n",
    "        \n",
    "    def forward(self, x):\n",
    "        for f in self.module_list:\n",
    "            x = f(x)\n",
    "        return x"
   ]
  },
  {
   "cell_type": "code",
   "execution_count": 6,
   "id": "c560c176-31ac-471a-ada3-0ed45ec67beb",
   "metadata": {},
   "outputs": [],
   "source": [
    "def train(model, dataloader, optim, loss_fn):\n",
    "    loss = 0\n",
    "    model.train()\n",
    "    for i, (x_batch, y_batch) in enumerate(dataloader):\n",
    "        optim.zero_grad() \n",
    "        pred = model(x_batch)\n",
    "        loss_curr = loss_fn(pred, y_batch)\n",
    "        loss_curr.backward()\n",
    "        optimizer.step()\n",
    "        loss += loss_curr.log10().item()\n",
    "    loss /= len(dataloader)\n",
    "    return loss\n",
    "\n",
    "def validate(model, loss_fn):\n",
    "    model.eval()\n",
    "    with torch.no_grad():\n",
    "        return loss_fn(model(dataset.val_input), dataset.val_output).log10().item()"
   ]
  },
  {
   "cell_type": "code",
   "execution_count": 7,
   "id": "624ad2d2-867e-41ca-9c79-7f4b8a832e01",
   "metadata": {},
   "outputs": [
    {
     "name": "stdout",
     "output_type": "stream",
     "text": [
      "MyModel(\n",
      "  (module_list): ModuleList(\n",
      "    (0): Linear(in_features=4, out_features=8, bias=True)\n",
      "    (1): Tanh()\n",
      "    (2): BatchNorm1d(8, eps=1e-05, momentum=0.1, affine=True, track_running_stats=True)\n",
      "    (3): Linear(in_features=8, out_features=8, bias=True)\n",
      "    (4): Tanh()\n",
      "    (5): BatchNorm1d(8, eps=1e-05, momentum=0.1, affine=True, track_running_stats=True)\n",
      "    (6): Linear(in_features=8, out_features=8, bias=True)\n",
      "    (7): Tanh()\n",
      "    (8): BatchNorm1d(8, eps=1e-05, momentum=0.1, affine=True, track_running_stats=True)\n",
      "    (9): Linear(in_features=8, out_features=8, bias=True)\n",
      "    (10): Tanh()\n",
      "    (11): BatchNorm1d(8, eps=1e-05, momentum=0.1, affine=True, track_running_stats=True)\n",
      "    (12): Linear(in_features=8, out_features=8, bias=True)\n",
      "    (13): Tanh()\n",
      "    (14): BatchNorm1d(8, eps=1e-05, momentum=0.1, affine=True, track_running_stats=True)\n",
      "    (15): Linear(in_features=8, out_features=8, bias=True)\n",
      "    (16): Tanh()\n",
      "    (17): BatchNorm1d(8, eps=1e-05, momentum=0.1, affine=True, track_running_stats=True)\n",
      "    (18): Linear(in_features=8, out_features=8, bias=True)\n",
      "    (19): Tanh()\n",
      "    (20): BatchNorm1d(8, eps=1e-05, momentum=0.1, affine=True, track_running_stats=True)\n",
      "    (21): Linear(in_features=8, out_features=8, bias=True)\n",
      "    (22): Tanh()\n",
      "    (23): BatchNorm1d(8, eps=1e-05, momentum=0.1, affine=True, track_running_stats=True)\n",
      "    (24): Linear(in_features=8, out_features=8, bias=True)\n",
      "    (25): Tanh()\n",
      "    (26): BatchNorm1d(8, eps=1e-05, momentum=0.1, affine=True, track_running_stats=True)\n",
      "    (27): Linear(in_features=8, out_features=4, bias=True)\n",
      "  )\n",
      ")\n"
     ]
    }
   ],
   "source": [
    "num_epochs = 50\n",
    "learning_rate = 0.1\n",
    "model = MyModel(inp=4, out=4, hid=8, n_hidden=8, act='tanh', use_dp=False, use_bn=True)\n",
    "loss_fn = nn.MSELoss(reduction='mean')\n",
    "optimizer = torch.optim.AdamW(model.parameters(), lr=learning_rate)"
   ]
  },
  {
   "cell_type": "code",
   "execution_count": 8,
   "id": "b26a76c6-c1cd-4e92-94b1-04475d9dc06a",
   "metadata": {},
   "outputs": [],
   "source": [
    "loss_hist = [0]*num_epochs\n",
    "val_loss_hist = [0]*num_epochs\n",
    "\n",
    "for epoch in range(num_epochs):\n",
    "    if epoch % 10 == 0:\n",
    "        optimizer.param_groups[0]['lr'] = 1e-1 * optimizer.param_groups[0]['lr']\n",
    "    time_start = time.time()\n",
    "\n",
    "    loss_hist[epoch] = train(model, dataloader, optimizer, loss_fn)\n",
    "    val_loss_hist[epoch] = validate(model, loss_fn)\n",
    "    \n",
    "    time_end = time.time()\n",
    "    time_delta = time_end - time_start"
   ]
  },
  {
   "cell_type": "code",
   "execution_count": 9,
   "id": "ac8bb5a9-8d1f-47cd-9f14-25315930217e",
   "metadata": {},
   "outputs": [
    {
     "data": {
      "text/plain": [
       "Text(0.5, 0, 'Epochs')"
      ]
     },
     "execution_count": 9,
     "metadata": {},
     "output_type": "execute_result"
    },
    {
     "data": {
      "image/png": "[encoded data removed]",
      "text/plain": [
       "<Figure size 1600x400 with 1 Axes>"
      ]
     },
     "metadata": {},
     "output_type": "display_data"
    }
   ],
   "source": [
    "fig = plt.figure(figsize=(16, 4))\n",
    "ax = fig.add_subplot()\n",
    "ax.plot(loss_hist, lw=4)\n",
    "ax.plot(val_loss_hist, lw=4)\n",
    "ax.legend(['Train loss', 'Validation loss'], fontsize=15)\n",
    "ax.set_xlabel('Epochs', size=15)"
   ]
  },
  {
   "cell_type": "code",
   "execution_count": 10,
   "id": "e3d23b2a-97af-466a-b786-78192f5cccc2",
   "metadata": {},
   "outputs": [],
   "source": [
    "# end here ================================================================================="
   ]
  },
  {
   "cell_type": "code",
   "execution_count": 11,
   "id": "424ae2c8-fa0c-497c-99bb-8c3573161c70",
   "metadata": {},
   "outputs": [],
   "source": [
    "class Hook():\n",
    "    def __init__(self, name, module, backward=False):\n",
    "        self.name = name\n",
    "        if backward==False:\n",
    "            self.hook = module.register_forward_hook(self.hook_fn)\n",
    "        else:\n",
    "            self.hook = module.register_backward_hook(self.hook_fn)\n",
    "            \n",
    "    def hook_fn(self, module, input, output):\n",
    "        self.input = input\n",
    "        self.output = output\n",
    "        \n",
    "    def close(self):\n",
    "        self.hook.remove()"
   ]
  },
  {
   "cell_type": "code",
   "execution_count": 12,
   "id": "8290ab0c-7b93-4edd-84b8-59d6e739804d",
   "metadata": {},
   "outputs": [
    {
     "ename": "AttributeError",
     "evalue": "'Hook' object has no attribute 'input'",
     "output_type": "error",
     "traceback": [
      "\u001b[0;31m---------------------------------------------------------------------------\u001b[0m",
      "\u001b[0;31mAttributeError\u001b[0m                            Traceback (most recent call last)",
      "Cell \u001b[0;32mIn[12], line 31\u001b[0m\n\u001b[1;32m     29\u001b[0m \u001b[38;5;28;01mif\u001b[39;00m epoch \u001b[38;5;241m==\u001b[39m \u001b[38;5;241m10\u001b[39m \u001b[38;5;129;01mand\u001b[39;00m i \u001b[38;5;241m==\u001b[39m \u001b[38;5;241m0\u001b[39m:\n\u001b[1;32m     30\u001b[0m     \u001b[38;5;28;01mfor\u001b[39;00m hook \u001b[38;5;129;01min\u001b[39;00m hookF:\n\u001b[0;32m---> 31\u001b[0m         fwd[hook\u001b[38;5;241m.\u001b[39mname] \u001b[38;5;241m=\u001b[39m InOut(\u001b[43mhook\u001b[49m\u001b[38;5;241;43m.\u001b[39;49m\u001b[43minput\u001b[49m, hook\u001b[38;5;241m.\u001b[39moutput)\n\u001b[1;32m     32\u001b[0m     \u001b[38;5;28;01mfor\u001b[39;00m hook \u001b[38;5;129;01min\u001b[39;00m hookB:\n\u001b[1;32m     33\u001b[0m         bwd[hook\u001b[38;5;241m.\u001b[39mname] \u001b[38;5;241m=\u001b[39m InOut(hook\u001b[38;5;241m.\u001b[39minput, hook\u001b[38;5;241m.\u001b[39moutput)\n",
      "\u001b[0;31mAttributeError\u001b[0m: 'Hook' object has no attribute 'input'"
     ]
    }
   ],
   "source": [
    "from collections import namedtuple\n",
    "\n",
    "fwd = {}\n",
    "bwd = {}\n",
    "InOut = namedtuple('InOut', ['input', 'output'])\n",
    "\n",
    "loss_hist = [0]*num_epochs\n",
    "val_loss_hist = [0]*num_epochs\n",
    "\n",
    "for epoch in range(num_epochs):\n",
    "    if epoch % 10 == 0:\n",
    "        optimizer.param_groups[0]['lr'] = 1e-1 * optimizer.param_groups[0]['lr']\n",
    "    for i, (x_batch, y_batch) in enumerate(dataloader):\n",
    "        if epoch == 10 and i == 0:\n",
    "            # 1. Register hooks on each layer\n",
    "            hookF = [Hook(layer[0], layer[1]) for layer in list(model._modules.items())]\n",
    "            hookB = [Hook(layer[0], layer[1],backward=True) for layer in list(model._modules.items())]\n",
    "            \n",
    "        # 2. Generate predictions\n",
    "        pred = model(x_batch)\n",
    "        \n",
    "        # 3. Calculate loss\n",
    "        loss = loss_fn(pred, y_batch)\n",
    "        \n",
    "        # 4. Compute gradients\n",
    "        loss.backward()\n",
    "\n",
    "        # 5. Forward/Backward Hooks Inputs & Outputs\n",
    "        if epoch == 10 and i == 0:\n",
    "            for hook in hookF:\n",
    "                fwd[hook.name] = InOut(hook.input, hook.output)\n",
    "            for hook in hookB:\n",
    "                bwd[hook.name] = InOut(hook.input, hook.output)\n",
    "    \n",
    "        # 6. Update parameters using gradients\n",
    "        optimizer.step()\n",
    "\n",
    "        # 7. Reset the gradients to zero\n",
    "        optimizer.zero_grad()\n",
    "\n",
    "        with torch.no_grad():\n",
    "            val_loss_hist[epoch] += loss_fn(model(dataset.val_input), dataset.val_output).log10().item()\n",
    "\n",
    "        loss_hist[epoch] += loss.log10().item()\n",
    "    loss_hist[epoch] /= len(dataloader)\n",
    "    val_loss_hist[epoch] /= len(dataloader)"
   ]
  },
  {
   "cell_type": "code",
   "execution_count": null,
   "id": "1f3c7ab8-796a-455a-a85e-32119eaaa0c7",
   "metadata": {},
   "outputs": [],
   "source": [
    "plt.figure(figsize=(20, 4))\n",
    "legends = []\n",
    "for k, v in fwd.items():\n",
    "    if k == 'tanh_2' or k == 'tanh_5' or k == 'tanh_8' or k == 'tanh_11':\n",
    "        print(k, ' mean: ', v.output.mean().item(), ' std: ', v.output.std().item(), ' saturation: ', (v.output.abs() > 0.97).float().mean().item()*100)\n",
    "        hy, hx = torch.histogram(v.output, density=True)\n",
    "        plt.plot(hx[:-1].detach(), hy.detach())\n",
    "        legends.append(f'layer {k}')\n",
    "plt.legend(legends);\n",
    "plt.title('tanh activation distribution')"
   ]
  },
  {
   "cell_type": "code",
   "execution_count": null,
   "id": "951f706d-9ad6-4d8a-8e91-3e2f71577fae",
   "metadata": {},
   "outputs": [],
   "source": [
    "plt.figure(figsize=(20, 4))\n",
    "legends = []\n",
    "for k, v in bwd.items():\n",
    "    if k == 'tanh_2' or k == 'tanh_5' or k == 'tanh_8' or k == 'tanh_11':\n",
    "        print(k, ' mean: ', v.output[0].mean().item(), ' std: ', ' saturation: ', v.output[0].std().item(), (v.output[0].abs() > 0.97).float().mean().item()*100)\n",
    "        hy, hx = torch.histogram(v.output[0], density=True)\n",
    "        plt.plot(hx[:-1].detach(), hy.detach())\n",
    "        legends.append(f'layer {k}')\n",
    "plt.legend(legends);\n",
    "plt.title('tanh activation distribution')"
   ]
  },
  {
   "cell_type": "code",
   "execution_count": null,
   "id": "3c5a1795-fdcf-4a46-a495-4e3c91c5127b",
   "metadata": {},
   "outputs": [],
   "source": [
    "fig = plt.figure(figsize=(16, 4))\n",
    "ax = fig.add_subplot()\n",
    "ax.plot(loss_hist, lw=4)\n",
    "ax.plot(val_loss_hist, lw=4)\n",
    "ax.legend(['Train loss', 'Validation loss'], fontsize=15)\n",
    "ax.set_xlabel('Epochs', size=15)"
   ]
  },
  {
   "cell_type": "code",
   "execution_count": null,
   "id": "c38eeb6c-1ec5-46ba-9fb1-517fdd227f6e",
   "metadata": {},
   "outputs": [],
   "source": []
  }
 ],
 "metadata": {
  "kernelspec": {
   "display_name": "Python 3 (ipykernel)",
   "language": "python",
   "name": "python3"
  },
  "language_info": {
   "codemirror_mode": {
    "name": "ipython",
    "version": 3
   },
   "file_extension": ".py",
   "mimetype": "text/x-python",
   "name": "python",
   "nbconvert_exporter": "python",
   "pygments_lexer": "ipython3",
   "version": "3.10.12"
  }
 },
 "nbformat": 4,
 "nbformat_minor": 5
}
