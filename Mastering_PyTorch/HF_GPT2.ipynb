{
 "cells": [
  {
   "cell_type": "code",
   "execution_count": 1,
   "id": "9eddf7cd-47a4-483f-b4c7-0daa3f7bc833",
   "metadata": {},
   "outputs": [
    {
     "name": "stderr",
     "output_type": "stream",
     "text": [
      "/home/edvard/.local/share/virtualenvs/Mastering_PyTorch-ib8cv033/lib/python3.10/site-packages/tqdm/auto.py:21: TqdmWarning: IProgress not found. Please update jupyter and ipywidgets. See https://ipywidgets.readthedocs.io/en/stable/user_install.html\n",
      "  from .autonotebook import tqdm as notebook_tqdm\n"
     ]
    }
   ],
   "source": [
    "from transformers import GPT2LMHeadModel, GPT2Tokenizer\n",
    "import torch"
   ]
  },
  {
   "cell_type": "code",
   "execution_count": 2,
   "id": "dcfc7876-8254-4ec0-b026-7d69fe70d85d",
   "metadata": {},
   "outputs": [
    {
     "name": "stderr",
     "output_type": "stream",
     "text": [
      "/home/edvard/.local/share/virtualenvs/Mastering_PyTorch-ib8cv033/lib/python3.10/site-packages/transformers/tokenization_utils_base.py:1601: FutureWarning: `clean_up_tokenization_spaces` was not set. It will be set to `True` by default. This behavior will be depracted in transformers v4.45, and will be then set to `False` by default. For more details check this issue: https://github.com/huggingface/transformers/issues/31884\n",
      "  warnings.warn(\n"
     ]
    }
   ],
   "source": [
    "torch.manual_seed(799)\n",
    "tkz = GPT2Tokenizer.from_pretrained(\"gpt2\")\n",
    "mdl = GPT2LMHeadModel.from_pretrained('gpt2')\n",
    "ln = 10\n",
    "cue = \"They\"\n",
    "gen = tkz(cue, return_tensors=\"pt\")\n",
    "to_ret = gen[\"input_ids\"][0]"
   ]
  },
  {
   "cell_type": "code",
   "execution_count": 3,
   "id": "bf9f0468-d5ea-45e0-9785-e79325905dd4",
   "metadata": {},
   "outputs": [
    {
     "name": "stdout",
     "output_type": "stream",
     "text": [
      "They are not the only ones who are being targeted.\n"
     ]
    }
   ],
   "source": [
    "prv=None\n",
    "for i in range(ln):\n",
    "    outputs = mdl(**gen)\n",
    "    next_token_logits = torch.argmax(outputs.logits[-1, :])\n",
    "    to_ret = torch.cat([to_ret, next_token_logits.unsqueeze(0)])\n",
    "    gen = {\"input_ids\": to_ret}\n",
    "\n",
    "seq = tkz.decode(to_ret)\n",
    "\n",
    "print(seq)"
   ]
  },
  {
   "cell_type": "code",
   "execution_count": 4,
   "id": "ddcc14d3-0bf0-4b89-b3ea-57fd49a96b05",
   "metadata": {},
   "outputs": [
    {
     "name": "stderr",
     "output_type": "stream",
     "text": [
      "The attention mask is not set and cannot be inferred from input because pad token is same as eos token. As a consequence, you may observe unexpected behavior. Please pass your input's `attention_mask` to obtain reliable results.\n"
     ]
    },
    {
     "name": "stdout",
     "output_type": "stream",
     "text": [
      "They are not the only ones who are being targeted\n"
     ]
    }
   ],
   "source": [
    "ip_ids = tkz.encode(cue, return_tensors='pt')\n",
    "op_greedy = mdl.generate(ip_ids, max_length=ln, pad_token_id=tkz.eos_token_id)\n",
    "seq = tkz.decode(op_greedy[0], skip_special_tokens=True)\n",
    "print(seq)"
   ]
  },
  {
   "cell_type": "code",
   "execution_count": 5,
   "id": "9461d9ca-0f93-467b-9ab3-78045512d9f2",
   "metadata": {},
   "outputs": [
    {
     "name": "stdout",
     "output_type": "stream",
     "text": [
      "They have a lot of\n",
      "They have a lot to\n",
      "They are not the only\n"
     ]
    }
   ],
   "source": [
    "op_beam = mdl.generate(\n",
    "    ip_ids, \n",
    "    max_length=5, \n",
    "    num_beams=3, \n",
    "    num_return_sequences=3,\n",
    "    pad_token_id=tkz.eos_token_id\n",
    ")\n",
    "\n",
    "for op_beam_cur in op_beam:\n",
    "    print(tkz.decode(op_beam_cur, skip_special_tokens=True))"
   ]
  },
  {
   "cell_type": "code",
   "execution_count": 6,
   "id": "bed03c85-3bdd-4bf6-8b88-5244ca2033a7",
   "metadata": {},
   "outputs": [
    {
     "name": "stdout",
     "output_type": "stream",
     "text": [
      "They are the only ones\n",
      "They have been in the\n",
      "They have a lot of\n"
     ]
    }
   ],
   "source": [
    "for i in range(3):\n",
    "    torch.manual_seed(i+10)\n",
    "    op = mdl.generate(\n",
    "        ip_ids, \n",
    "        do_sample=True, \n",
    "        max_length=5, \n",
    "        top_k=2,\n",
    "        pad_token_id=tkz.eos_token_id\n",
    "    )\n",
    "\n",
    "    seq = tkz.decode(op[0], skip_special_tokens=True)\n",
    "    print(seq)"
   ]
  },
  {
   "cell_type": "code",
   "execution_count": 7,
   "id": "8f0f8420-ce19-4681-850e-1ca2b7f9b547",
   "metadata": {},
   "outputs": [
    {
     "name": "stdout",
     "output_type": "stream",
     "text": [
      "They in the jail know\n",
      "They live on a budget\n",
      "They\n",
      "\n",
      "Says\n"
     ]
    }
   ],
   "source": [
    "for i in range(3):\n",
    "    torch.manual_seed(i+10)\n",
    "    op = mdl.generate(\n",
    "        ip_ids, \n",
    "        do_sample=True, \n",
    "        max_length=5, \n",
    "        top_p=0.75, \n",
    "        top_k=0,\n",
    "        pad_token_id=tkz.eos_token_id\n",
    "    )\n",
    "\n",
    "    seq = tkz.decode(op[0], skip_special_tokens=True)\n",
    "    print(seq)"
   ]
  },
  {
   "cell_type": "code",
   "execution_count": null,
   "id": "02bcaaa3-6cef-4a2a-93bc-91d59c0b07b9",
   "metadata": {},
   "outputs": [],
   "source": []
  }
 ],
 "metadata": {
  "kernelspec": {
   "display_name": "Python 3 (ipykernel)",
   "language": "python",
   "name": "python3"
  },
  "language_info": {
   "codemirror_mode": {
    "name": "ipython",
    "version": 3
   },
   "file_extension": ".py",
   "mimetype": "text/x-python",
   "name": "python",
   "nbconvert_exporter": "python",
   "pygments_lexer": "ipython3",
   "version": "3.10.12"
  }
 },
 "nbformat": 4,
 "nbformat_minor": 5
}
