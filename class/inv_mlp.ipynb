{
 "cells": [
  {
   "cell_type": "code",
   "execution_count": 1,
   "id": "24429db5-89b3-475b-a5eb-e7191179aa31",
   "metadata": {},
   "outputs": [
    {
     "data": {
      "text/plain": [
       "<torch._C.Generator at 0x7a6acbf370f0>"
      ]
     },
     "execution_count": 1,
     "metadata": {},
     "output_type": "execute_result"
    }
   ],
   "source": [
    "import time\n",
    "import torch\n",
    "import torch.nn as nn\n",
    "from torch.utils.data import DataLoader, Dataset\n",
    "import matplotlib.pyplot as plt\n",
    "\n",
    "%matplotlib inline\n",
    "torch.manual_seed(1)"
   ]
  },
  {
   "cell_type": "code",
   "execution_count": 2,
   "id": "3ac85972-9b0c-41ba-b9b4-04b289a26f71",
   "metadata": {},
   "outputs": [],
   "source": [
    "class MLPDataset(Dataset):\n",
    "    def __init__(self, target_model, n_points):\n",
    "        self.target_model = target_model\n",
    "        self.n_points = n_points\n",
    "        self.n_val_points = int(self.n_points * 0.25)\n",
    "        with torch.no_grad():\n",
    "            self.input = self.target_model(self.__input())\n",
    "            self.val_input = self.target_model(self.__val_input())\n",
    "            print('train ds mean: ', self.output.mean(), ' std: ', self.output.std())\n",
    "            print('val ds mean: ', self.val_output.mean(), ' std: ', self.val_output.std())\n",
    "        \n",
    "    def __input(self):\n",
    "        self.output = 3.0 * torch.randn(self.n_points, self.__input_shape()) + 9.0\n",
    "        return self.output\n",
    "\n",
    "    def __val_input(self):\n",
    "        self.val_output = 3.0 * torch.randn(self.n_points, self.__input_shape()) + 9.0\n",
    "        return self.val_output\n",
    "        \n",
    "    def __input_shape(self):\n",
    "        first_parameter = next(self.target_model.parameters())\n",
    "        input_shape = first_parameter.size()\n",
    "        return input_shape[1]\n",
    "\n",
    "    def __len__(self):\n",
    "        return self.n_points\n",
    "\n",
    "    def __getitem__(self, index):\n",
    "        return self.input[index], self.output[index]\n",
    "        "
   ]
  },
  {
   "cell_type": "code",
   "execution_count": 3,
   "id": "6bccd59b-d2de-41f6-afec-46494938cc45",
   "metadata": {},
   "outputs": [],
   "source": [
    "class Target(nn.Module):\n",
    "    def __init__(self, inp, out, hid, n_hidden, act):\n",
    "        super().__init__()\n",
    "\n",
    "        init_uniform_left = -5.0\n",
    "        init_uniform_right = 5.0\n",
    "        # activation\n",
    "        activation = nn.Tanh();\n",
    "        if act == 'relu':\n",
    "            activation = nn.ReLU()\n",
    "\n",
    "        # input layer\n",
    "        input_layer = nn.Linear(inp, hid)\n",
    "        self.layers = [input_layer, activation]\n",
    "\n",
    "        # hidden layers\n",
    "        for h in range(n_hidden):\n",
    "            hidden_layer = nn.Linear(hid, hid)\n",
    "            self.layers.append(hidden_layer)\n",
    "            self.layers.append(activation)\n",
    "\n",
    "        # output layer\n",
    "        output_layer = nn.Linear(hid, out)\n",
    "        self.layers.append(output_layer)\n",
    "\n",
    "        # init\n",
    "        for l in self.layers:\n",
    "            if isinstance(l, nn.Linear):\n",
    "                nn.init.uniform_(l.weight, init_uniform_left, init_uniform_right)\n",
    "\n",
    "        # model list\n",
    "        self.module_list = nn.ModuleList(self.layers)\n",
    "        print(self)\n",
    "\n",
    "    def forward(self, x):\n",
    "        for f in self.module_list:\n",
    "            x = f(x)\n",
    "        return x"
   ]
  },
  {
   "cell_type": "code",
   "execution_count": 4,
   "id": "9ca97feb-bef3-4afb-9de5-2e70445bad91",
   "metadata": {},
   "outputs": [
    {
     "name": "stdout",
     "output_type": "stream",
     "text": [
      "Target(\n",
      "  (module_list): ModuleList(\n",
      "    (0): Linear(in_features=4, out_features=4, bias=True)\n",
      "    (1): ReLU()\n",
      "    (2): Linear(in_features=4, out_features=4, bias=True)\n",
      "    (3): ReLU()\n",
      "    (4): Linear(in_features=4, out_features=4, bias=True)\n",
      "    (5): ReLU()\n",
      "    (6): Linear(in_features=4, out_features=4, bias=True)\n",
      "    (7): ReLU()\n",
      "    (8): Linear(in_features=4, out_features=4, bias=True)\n",
      "    (9): ReLU()\n",
      "    (10): Linear(in_features=4, out_features=4, bias=True)\n",
      "    (11): ReLU()\n",
      "    (12): Linear(in_features=4, out_features=4, bias=True)\n",
      "    (13): ReLU()\n",
      "    (14): Linear(in_features=4, out_features=4, bias=True)\n",
      "    (15): ReLU()\n",
      "    (16): Linear(in_features=4, out_features=4, bias=True)\n",
      "    (17): ReLU()\n",
      "    (18): Linear(in_features=4, out_features=4, bias=True)\n",
      "  )\n",
      ")\n",
      "train ds mean:  tensor(8.9976)  std:  tensor(2.9906)\n",
      "val ds mean:  tensor(8.9913)  std:  tensor(3.0092)\n"
     ]
    }
   ],
   "source": [
    "dataset = MLPDataset(Target(inp=4, out=4, hid=4, n_hidden=8, act='relu'), 7000)\n",
    "dataloader = DataLoader(dataset, batch_size=128, shuffle=True)"
   ]
  },
  {
   "cell_type": "code",
   "execution_count": 5,
   "id": "08e3069f-48d1-430b-a909-210689e2e7a7",
   "metadata": {},
   "outputs": [],
   "source": [
    "class MyModel(nn.Module):\n",
    "    def __init__(self, inp, out, hid, n_hidden, act, use_dp, use_bn):\n",
    "        super().__init__()\n",
    "        # dropout\n",
    "        dropout_prob = 0.2\n",
    "        \n",
    "        # activation\n",
    "        activation = nn.ReLU()\n",
    "        if act == 'tanh':\n",
    "            activation = nn.Tanh()\n",
    "\n",
    "        # layers\n",
    "        self.layers = []\n",
    "\n",
    "        # input layer\n",
    "        input_layer = nn.Linear(inp, hid)\n",
    "        self.layers.append(input_layer)\n",
    "        if use_dp:\n",
    "            dropout = nn.Dropout(dropout_prob)\n",
    "            self.layers.append(dropout)\n",
    "        self.layers.append(activation)\n",
    "        if use_bn:\n",
    "            bn = nn.BatchNorm1d(hid)\n",
    "            self.layers.append(bn)\n",
    "\n",
    "        # hidden layers\n",
    "        for h in range(n_hidden):\n",
    "            hidden = nn.Linear(hid, hid)\n",
    "            self.layers.append(hidden)\n",
    "            if use_dp:\n",
    "                dropout = nn.Dropout(dropout_prob)\n",
    "                self.layers.append(dropout)\n",
    "            self.layers.append(activation)\n",
    "            if use_bn:\n",
    "                bn = nn.BatchNorm1d(hid)\n",
    "                self.layers.append(bn)\n",
    "\n",
    "        # output layer\n",
    "        output_layer = nn.Linear(hid, out)\n",
    "        self.layers.append(output_layer)\n",
    "\n",
    "        # init\n",
    "        for l in self.layers:\n",
    "            if isinstance(l, nn.Linear):\n",
    "                nn.init.kaiming_uniform_(l.weight, mode='fan_in')\n",
    "\n",
    "        # model list\n",
    "        self.module_list = nn.ModuleList(self.layers)\n",
    "        print(self)\n",
    "        \n",
    "    def forward(self, x):\n",
    "        for f in self.module_list:\n",
    "            x = f(x)\n",
    "        return x"
   ]
  },
  {
   "cell_type": "code",
   "execution_count": 6,
   "id": "31341bc2-ed26-42bf-8096-7fb9f29029f6",
   "metadata": {},
   "outputs": [],
   "source": [
    "def train(model, dataloader, optim, loss_fn):\n",
    "    loss = 0\n",
    "    model.train()\n",
    "    for i, (x_batch, y_batch) in enumerate(dataloader):\n",
    "        optim.zero_grad() \n",
    "        pred = model(x_batch)\n",
    "        loss_curr = loss_fn(pred, y_batch)\n",
    "        loss_curr.backward()\n",
    "        optimizer.step()\n",
    "        loss += loss_curr.log10().item()\n",
    "    loss /= len(dataloader)\n",
    "    return loss\n",
    "\n",
    "def validate(model, loss_fn):\n",
    "    model.eval()\n",
    "    with torch.no_grad():\n",
    "        output = model(dataset.val_input)\n",
    "        print('val ds mean: ', output.mean(), ' std: ', output.std())\n",
    "        return loss_fn(output, dataset.val_output).log10().item()"
   ]
  },
  {
   "cell_type": "code",
   "execution_count": 7,
   "id": "b23c6a83-4309-418f-9dce-e56dd7e60d5c",
   "metadata": {},
   "outputs": [
    {
     "name": "stdout",
     "output_type": "stream",
     "text": [
      "MyModel(\n",
      "  (module_list): ModuleList(\n",
      "    (0): Linear(in_features=4, out_features=2, bias=True)\n",
      "    (1): Tanh()\n",
      "    (2): Linear(in_features=2, out_features=2, bias=True)\n",
      "    (3): Tanh()\n",
      "    (4): Linear(in_features=2, out_features=2, bias=True)\n",
      "    (5): Tanh()\n",
      "    (6): Linear(in_features=2, out_features=4, bias=True)\n",
      "  )\n",
      ")\n"
     ]
    }
   ],
   "source": [
    "num_epochs = 50\n",
    "learning_rate = 0.1\n",
    "model = MyModel(inp=4, out=4, hid=2, n_hidden=2, act='tanh', use_dp=False, use_bn=False)\n",
    "loss_fn = nn.MSELoss(reduction='mean')\n",
    "optimizer = torch.optim.AdamW(model.parameters(), lr=learning_rate)"
   ]
  },
  {
   "cell_type": "code",
   "execution_count": 8,
   "id": "4d400c7b-470e-4646-8e79-847c4af51d7e",
   "metadata": {},
   "outputs": [
    {
     "name": "stdout",
     "output_type": "stream",
     "text": [
      "val ds mean:  tensor(0.9860)  std:  tensor(0.8479)\n",
      "val ds mean:  tensor(2.6091)  std:  tensor(1.0299)\n",
      "val ds mean:  tensor(4.0751)  std:  tensor(0.9756)\n",
      "val ds mean:  tensor(5.2598)  std:  tensor(0.8869)\n",
      "val ds mean:  tensor(6.2064)  std:  tensor(0.7820)\n",
      "val ds mean:  tensor(6.9572)  std:  tensor(0.6699)\n",
      "val ds mean:  tensor(7.5331)  std:  tensor(0.5579)\n",
      "val ds mean:  tensor(7.9607)  std:  tensor(0.4431)\n",
      "val ds mean:  tensor(8.2730)  std:  tensor(0.3500)\n",
      "val ds mean:  tensor(8.4883)  std:  tensor(0.2619)\n",
      "val ds mean:  tensor(8.5057)  std:  tensor(0.2550)\n",
      "val ds mean:  tensor(8.5232)  std:  tensor(0.2479)\n",
      "val ds mean:  tensor(8.5408)  std:  tensor(0.2407)\n",
      "val ds mean:  tensor(8.5596)  std:  tensor(0.2334)\n",
      "val ds mean:  tensor(8.5772)  std:  tensor(0.2251)\n",
      "val ds mean:  tensor(8.5960)  std:  tensor(0.2178)\n",
      "val ds mean:  tensor(8.6143)  std:  tensor(0.2100)\n",
      "val ds mean:  tensor(8.6318)  std:  tensor(0.2018)\n",
      "val ds mean:  tensor(8.6508)  std:  tensor(0.1949)\n",
      "val ds mean:  tensor(8.6681)  std:  tensor(0.1866)\n",
      "val ds mean:  tensor(8.6700)  std:  tensor(0.1859)\n",
      "val ds mean:  tensor(8.6718)  std:  tensor(0.1850)\n",
      "val ds mean:  tensor(8.6737)  std:  tensor(0.1842)\n",
      "val ds mean:  tensor(8.6757)  std:  tensor(0.1834)\n",
      "val ds mean:  tensor(8.6778)  std:  tensor(0.1825)\n",
      "val ds mean:  tensor(8.6800)  std:  tensor(0.1816)\n",
      "val ds mean:  tensor(8.6822)  std:  tensor(0.1807)\n",
      "val ds mean:  tensor(8.6845)  std:  tensor(0.1798)\n",
      "val ds mean:  tensor(8.6869)  std:  tensor(0.1788)\n",
      "val ds mean:  tensor(8.6893)  std:  tensor(0.1778)\n",
      "val ds mean:  tensor(8.6895)  std:  tensor(0.1777)\n",
      "val ds mean:  tensor(8.6898)  std:  tensor(0.1776)\n",
      "val ds mean:  tensor(8.6900)  std:  tensor(0.1775)\n",
      "val ds mean:  tensor(8.6903)  std:  tensor(0.1774)\n",
      "val ds mean:  tensor(8.6906)  std:  tensor(0.1773)\n",
      "val ds mean:  tensor(8.6909)  std:  tensor(0.1772)\n",
      "val ds mean:  tensor(8.6912)  std:  tensor(0.1771)\n",
      "val ds mean:  tensor(8.6915)  std:  tensor(0.1770)\n",
      "val ds mean:  tensor(8.6918)  std:  tensor(0.1768)\n",
      "val ds mean:  tensor(8.6921)  std:  tensor(0.1767)\n",
      "val ds mean:  tensor(8.6921)  std:  tensor(0.1767)\n",
      "val ds mean:  tensor(8.6922)  std:  tensor(0.1767)\n",
      "val ds mean:  tensor(8.6922)  std:  tensor(0.1767)\n",
      "val ds mean:  tensor(8.6923)  std:  tensor(0.1767)\n",
      "val ds mean:  tensor(8.6923)  std:  tensor(0.1766)\n",
      "val ds mean:  tensor(8.6923)  std:  tensor(0.1766)\n",
      "val ds mean:  tensor(8.6924)  std:  tensor(0.1766)\n",
      "val ds mean:  tensor(8.6924)  std:  tensor(0.1766)\n",
      "val ds mean:  tensor(8.6925)  std:  tensor(0.1766)\n",
      "val ds mean:  tensor(8.6925)  std:  tensor(0.1766)\n"
     ]
    }
   ],
   "source": [
    "loss_hist = [0]*num_epochs\n",
    "val_loss_hist = [0]*num_epochs\n",
    "\n",
    "for epoch in range(num_epochs):\n",
    "    if epoch % 10 == 0:\n",
    "        optimizer.param_groups[0]['lr'] = 1e-1 * optimizer.param_groups[0]['lr']\n",
    "    time_start = time.time()\n",
    "\n",
    "    loss_hist[epoch] = train(model, dataloader, optimizer, loss_fn)\n",
    "    val_loss_hist[epoch] = validate(model, loss_fn)\n",
    "    \n",
    "    time_end = time.time()\n",
    "    time_delta = time_end - time_start"
   ]
  },
  {
   "cell_type": "code",
   "execution_count": 9,
   "id": "e0cfd2f9-f3a2-4101-8d92-e4acd0bd534a",
   "metadata": {},
   "outputs": [
    {
     "data": {
      "text/plain": [
       "Text(0.5, 0, 'Epochs')"
      ]
     },
     "execution_count": 9,
     "metadata": {},
     "output_type": "execute_result"
    },
    {
     "data": {
      "image/png": "[encoded data removed]",
      "text/plain": [
       "<Figure size 1600x400 with 1 Axes>"
      ]
     },
     "metadata": {},
     "output_type": "display_data"
    }
   ],
   "source": [
    "fig = plt.figure(figsize=(16, 4))\n",
    "ax = fig.add_subplot()\n",
    "ax.plot(loss_hist, lw=4)\n",
    "ax.plot(val_loss_hist, lw=4)\n",
    "ax.legend(['Train loss', 'Validation loss'], fontsize=15)\n",
    "ax.set_xlabel('Epochs', size=15)"
   ]
  },
  {
   "cell_type": "code",
   "execution_count": null,
   "id": "2ce534e7-7eeb-4113-aa07-b33dc05a9dc4",
   "metadata": {},
   "outputs": [],
   "source": []
  },
  {
   "cell_type": "code",
   "execution_count": null,
   "id": "fb81eb32-717c-4ad4-904b-31538d76a76a",
   "metadata": {},
   "outputs": [],
   "source": []
  }
 ],
 "metadata": {
  "kernelspec": {
   "display_name": "Python 3 (ipykernel)",
   "language": "python",
   "name": "python3"
  },
  "language_info": {
   "codemirror_mode": {
    "name": "ipython",
    "version": 3
   },
   "file_extension": ".py",
   "mimetype": "text/x-python",
   "name": "python",
   "nbconvert_exporter": "python",
   "pygments_lexer": "ipython3",
   "version": "3.10.12"
  }
 },
 "nbformat": 4,
 "nbformat_minor": 5
}
