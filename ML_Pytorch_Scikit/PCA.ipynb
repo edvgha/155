{
 "cells": [
  {
   "cell_type": "code",
   "execution_count": 1,
   "id": "4cfc707f-6a69-4612-88df-311f862f8b37",
   "metadata": {},
   "outputs": [
    {
     "data": {
      "text/html": [
       "<div>\n",
       "<style scoped>\n",
       "    .dataframe tbody tr th:only-of-type {\n",
       "        vertical-align: middle;\n",
       "    }\n",
       "\n",
       "    .dataframe tbody tr th {\n",
       "        vertical-align: top;\n",
       "    }\n",
       "\n",
       "    .dataframe thead th {\n",
       "        text-align: right;\n",
       "    }\n",
       "</style>\n",
       "<table border=\"1\" class=\"dataframe\">\n",
       "  <thead>\n",
       "    <tr style=\"text-align: right;\">\n",
       "      <th></th>\n",
       "      <th>Class label</th>\n",
       "      <th>Alcohol</th>\n",
       "      <th>Malic acid</th>\n",
       "      <th>Ash</th>\n",
       "      <th>Alcalinity of ash</th>\n",
       "      <th>Magnesium</th>\n",
       "      <th>Total phenols</th>\n",
       "      <th>Flavanoids</th>\n",
       "      <th>Nonflavanoid phenols</th>\n",
       "      <th>Proanthocyanins</th>\n",
       "      <th>Color intensity</th>\n",
       "      <th>Hue</th>\n",
       "      <th>OD280/OD315 of diluted wines</th>\n",
       "      <th>Proline</th>\n",
       "    </tr>\n",
       "  </thead>\n",
       "  <tbody>\n",
       "    <tr>\n",
       "      <th>0</th>\n",
       "      <td>1</td>\n",
       "      <td>14.23</td>\n",
       "      <td>1.71</td>\n",
       "      <td>2.43</td>\n",
       "      <td>15.6</td>\n",
       "      <td>127</td>\n",
       "      <td>2.80</td>\n",
       "      <td>3.06</td>\n",
       "      <td>0.28</td>\n",
       "      <td>2.29</td>\n",
       "      <td>5.64</td>\n",
       "      <td>1.04</td>\n",
       "      <td>3.92</td>\n",
       "      <td>1065</td>\n",
       "    </tr>\n",
       "    <tr>\n",
       "      <th>1</th>\n",
       "      <td>1</td>\n",
       "      <td>13.20</td>\n",
       "      <td>1.78</td>\n",
       "      <td>2.14</td>\n",
       "      <td>11.2</td>\n",
       "      <td>100</td>\n",
       "      <td>2.65</td>\n",
       "      <td>2.76</td>\n",
       "      <td>0.26</td>\n",
       "      <td>1.28</td>\n",
       "      <td>4.38</td>\n",
       "      <td>1.05</td>\n",
       "      <td>3.40</td>\n",
       "      <td>1050</td>\n",
       "    </tr>\n",
       "    <tr>\n",
       "      <th>2</th>\n",
       "      <td>1</td>\n",
       "      <td>13.16</td>\n",
       "      <td>2.36</td>\n",
       "      <td>2.67</td>\n",
       "      <td>18.6</td>\n",
       "      <td>101</td>\n",
       "      <td>2.80</td>\n",
       "      <td>3.24</td>\n",
       "      <td>0.30</td>\n",
       "      <td>2.81</td>\n",
       "      <td>5.68</td>\n",
       "      <td>1.03</td>\n",
       "      <td>3.17</td>\n",
       "      <td>1185</td>\n",
       "    </tr>\n",
       "    <tr>\n",
       "      <th>3</th>\n",
       "      <td>1</td>\n",
       "      <td>14.37</td>\n",
       "      <td>1.95</td>\n",
       "      <td>2.50</td>\n",
       "      <td>16.8</td>\n",
       "      <td>113</td>\n",
       "      <td>3.85</td>\n",
       "      <td>3.49</td>\n",
       "      <td>0.24</td>\n",
       "      <td>2.18</td>\n",
       "      <td>7.80</td>\n",
       "      <td>0.86</td>\n",
       "      <td>3.45</td>\n",
       "      <td>1480</td>\n",
       "    </tr>\n",
       "    <tr>\n",
       "      <th>4</th>\n",
       "      <td>1</td>\n",
       "      <td>13.24</td>\n",
       "      <td>2.59</td>\n",
       "      <td>2.87</td>\n",
       "      <td>21.0</td>\n",
       "      <td>118</td>\n",
       "      <td>2.80</td>\n",
       "      <td>2.69</td>\n",
       "      <td>0.39</td>\n",
       "      <td>1.82</td>\n",
       "      <td>4.32</td>\n",
       "      <td>1.04</td>\n",
       "      <td>2.93</td>\n",
       "      <td>735</td>\n",
       "    </tr>\n",
       "  </tbody>\n",
       "</table>\n",
       "</div>"
      ],
      "text/plain": [
       "   Class label  Alcohol  Malic acid   Ash  Alcalinity of ash  Magnesium  \\\n",
       "0            1    14.23        1.71  2.43               15.6        127   \n",
       "1            1    13.20        1.78  2.14               11.2        100   \n",
       "2            1    13.16        2.36  2.67               18.6        101   \n",
       "3            1    14.37        1.95  2.50               16.8        113   \n",
       "4            1    13.24        2.59  2.87               21.0        118   \n",
       "\n",
       "   Total phenols  Flavanoids  Nonflavanoid phenols  Proanthocyanins  \\\n",
       "0           2.80        3.06                  0.28             2.29   \n",
       "1           2.65        2.76                  0.26             1.28   \n",
       "2           2.80        3.24                  0.30             2.81   \n",
       "3           3.85        3.49                  0.24             2.18   \n",
       "4           2.80        2.69                  0.39             1.82   \n",
       "\n",
       "   Color intensity   Hue  OD280/OD315 of diluted wines  Proline  \n",
       "0             5.64  1.04                          3.92     1065  \n",
       "1             4.38  1.05                          3.40     1050  \n",
       "2             5.68  1.03                          3.17     1185  \n",
       "3             7.80  0.86                          3.45     1480  \n",
       "4             4.32  1.04                          2.93      735  "
      ]
     },
     "execution_count": 1,
     "metadata": {},
     "output_type": "execute_result"
    }
   ],
   "source": [
    "import pandas as pd\n",
    "\n",
    "df_wine = pd.read_csv('https://archive.ics.uci.edu/ml/'\n",
    "                      'machine-learning-databases/wine/wine.data',\n",
    "                      header=None)\n",
    "\n",
    "# if the Wine dataset is temporarily unavailable from the\n",
    "# UCI machine learning repository, un-comment the following line\n",
    "# of code to load the dataset from a local path:\n",
    "\n",
    "# df_wine = pd.read_csv('wine.data', header=None)\n",
    "\n",
    "df_wine.columns = ['Class label', 'Alcohol', 'Malic acid', 'Ash',\n",
    "                   'Alcalinity of ash', 'Magnesium', 'Total phenols',\n",
    "                   'Flavanoids', 'Nonflavanoid phenols', 'Proanthocyanins',\n",
    "                   'Color intensity', 'Hue',\n",
    "                   'OD280/OD315 of diluted wines', 'Proline']\n",
    "\n",
    "df_wine.head()"
   ]
  },
  {
   "cell_type": "markdown",
   "id": "6ae584dc-a610-495b-a63b-93659653037b",
   "metadata": {},
   "source": [
    "### Split"
   ]
  },
  {
   "cell_type": "code",
   "execution_count": 2,
   "id": "74417de9-d0f0-4548-9190-0e7a344f5c49",
   "metadata": {},
   "outputs": [],
   "source": [
    "from sklearn.model_selection import train_test_split\n",
    "\n",
    "X, y = df_wine.iloc[:, 1:].values, df_wine.iloc[:, 0].values\n",
    "\n",
    "X_train, X_test, y_train, y_test = \\\n",
    "    train_test_split(X, y, test_size=0.3, \n",
    "                     stratify=y,\n",
    "                     random_state=0)"
   ]
  },
  {
   "cell_type": "markdown",
   "id": "fae15cd5-66f7-436a-9025-578c4ef985d1",
   "metadata": {},
   "source": [
    "### Standardize"
   ]
  },
  {
   "cell_type": "code",
   "execution_count": 3,
   "id": "ced8ab11-c4a0-433c-a286-1aead3d04d2d",
   "metadata": {},
   "outputs": [],
   "source": [
    "from sklearn.preprocessing import StandardScaler\n",
    "\n",
    "sc = StandardScaler()\n",
    "X_train_std = sc.fit_transform(X_train)\n",
    "X_test_std = sc.transform(X_test)"
   ]
  },
  {
   "cell_type": "markdown",
   "id": "fdc8ea7d-5d93-4dd8-ae66-28821e118896",
   "metadata": {},
   "source": [
    "### Eigendecomposition of the covariance matrix"
   ]
  },
  {
   "cell_type": "code",
   "execution_count": 8,
   "id": "eaf25ea7-b6fe-4f23-b6cf-9de71b1db5a2",
   "metadata": {},
   "outputs": [
    {
     "name": "stdout",
     "output_type": "stream",
     "text": [
      "\n",
      "Eigenvalues \n",
      " [4.84274532 2.41602459 1.54845825 0.96120438 0.84166161 0.6620634\n",
      " 0.51828472 0.34650377 0.3131368  0.10754642 0.21357215 0.15362835\n",
      " 0.1808613 ]\n",
      "\n",
      "Eigenvectors \n",
      " [[-1.37242175e-01  5.03034778e-01 -1.37748734e-01 -3.29610003e-03\n",
      "  -2.90625226e-01  2.99096847e-01  7.90529293e-02 -3.68176414e-01\n",
      "  -3.98377017e-01 -9.44869777e-02  3.74638877e-01 -1.27834515e-01\n",
      "   2.62834263e-01]\n",
      " [ 2.47243265e-01  1.64871190e-01  9.61503863e-02  5.62646692e-01\n",
      "   8.95378697e-02  6.27036396e-01 -2.74002014e-01 -1.25775752e-02\n",
      "   1.10458230e-01  2.63652406e-02 -1.37405597e-01  8.06401578e-02\n",
      "  -2.66769211e-01]\n",
      " [-2.54515927e-02  2.44564761e-01  6.77775667e-01 -1.08977111e-01\n",
      "  -1.60834991e-01  3.89128239e-04  1.32328045e-01  1.77578177e-01\n",
      "   3.82496856e-01  1.42747511e-01  4.61583035e-01  1.67924873e-02\n",
      "  -1.15542548e-01]\n",
      " [ 2.06945084e-01 -1.13529045e-01  6.25040550e-01  3.38187002e-02\n",
      "   5.15873402e-02 -4.05836452e-02  2.23999097e-01 -4.40592110e-01\n",
      "  -2.43373853e-01 -1.30485780e-01 -4.18953989e-01 -1.10845657e-01\n",
      "   1.99483410e-01]\n",
      " [-1.54365821e-01  2.89745182e-01  1.96135481e-01 -3.67511070e-01\n",
      "   6.76487073e-01  6.57772614e-02 -4.05268966e-01  1.16617503e-01\n",
      "  -2.58982359e-01 -6.76080782e-02  1.00470630e-02  7.93879562e-02\n",
      "   2.89018810e-02]\n",
      " [-3.93769523e-01  5.08010391e-02  1.40310572e-01  2.40245127e-01\n",
      "  -1.18511144e-01 -5.89776247e-02 -3.47419412e-02  3.50192127e-01\n",
      "  -3.42312860e-01  4.59917661e-01 -2.21254241e-01 -4.91459313e-01\n",
      "  -6.63868598e-02]\n",
      " [-4.17351064e-01 -2.28733792e-02  1.17053859e-01  1.87053299e-01\n",
      "  -1.07100349e-01 -3.01103180e-02  4.17835724e-02  2.18718183e-01\n",
      "  -3.61231642e-02 -8.14583947e-01 -4.17513600e-02 -5.03074004e-02\n",
      "  -2.13349079e-01]\n",
      " [ 3.05728961e-01  9.04888470e-02  1.31217777e-01 -2.29262234e-02\n",
      "  -5.07581610e-01 -2.71728086e-01 -6.31145686e-01  1.97129425e-01\n",
      "  -1.71436883e-01 -9.57480885e-02 -8.87569452e-02  1.75328030e-01\n",
      "   1.86391279e-01]\n",
      " [-3.06683469e-01  8.35232677e-03  3.04309008e-02  4.96262330e-01\n",
      "   2.01634619e-01 -4.39997519e-01 -3.23122775e-01 -4.33055871e-01\n",
      "   2.44370210e-01  6.72468934e-02  1.99921861e-01 -3.67595797e-03\n",
      "   1.68082985e-01]\n",
      " [ 7.55406578e-02  5.49775805e-01 -7.99299713e-02  1.06482939e-01\n",
      "   5.73607091e-03 -4.11743459e-01  2.69082623e-01 -6.68411823e-02\n",
      "  -1.55514919e-01  8.73336218e-02 -2.21668868e-01  3.59756535e-01\n",
      "  -4.66369031e-01]\n",
      " [-3.26132628e-01 -2.07164328e-01  5.30591506e-02 -3.69053747e-01\n",
      "  -2.76914216e-01  1.41673377e-01 -3.02640661e-01 -4.59762295e-01\n",
      "   2.11961247e-02  1.29061125e-01 -9.84694573e-02  4.04669797e-02\n",
      "  -5.32483880e-01]\n",
      " [-3.68610222e-01 -2.49025357e-01  1.32391030e-01  1.42016088e-01\n",
      "  -6.66275572e-02  1.75842384e-01  1.30540143e-01  1.10827548e-01\n",
      "  -2.38089559e-01  1.87646268e-01  1.91205783e-02  7.42229543e-01\n",
      "   2.37835283e-01]\n",
      " [-2.96696514e-01  3.80229423e-01 -7.06502178e-02 -1.67682173e-01\n",
      "  -1.28029045e-01  1.38018388e-01  8.11335043e-04  5.60817288e-03\n",
      "   5.17278463e-01  1.21112574e-02 -5.42532072e-01  3.87395209e-02\n",
      "   3.67763359e-01]]\n"
     ]
    }
   ],
   "source": [
    "import numpy as np\n",
    "cov_mat = np.cov(X_train_std.T)\n",
    "eigen_vals, eigen_vecs = np.linalg.eig(cov_mat)\n",
    "\n",
    "print('\\nEigenvalues \\n', eigen_vals)\n",
    "print('\\nEigenvectors \\n', eigen_vecs)"
   ]
  },
  {
   "cell_type": "markdown",
   "id": "5dbc19fa-31c7-423c-88b9-34895db24700",
   "metadata": {},
   "source": [
    "### Total and explained variance"
   ]
  },
  {
   "cell_type": "code",
   "execution_count": 9,
   "id": "203d78e7-be97-437f-bb51-c6c58f5f8444",
   "metadata": {},
   "outputs": [],
   "source": [
    "tot = sum(eigen_vals)\n",
    "var_exp = [(i / tot) for i in sorted(eigen_vals, reverse=True)]\n",
    "cum_var_exp = np.cumsum(var_exp)"
   ]
  },
  {
   "cell_type": "code",
   "execution_count": 15,
   "id": "cade35d1-a742-4ebb-a5bd-ce8bff755a62",
   "metadata": {},
   "outputs": [
    {
     "data": {
      "image/png": "[encoded data removed]",
      "text/plain": [
       "<Figure size 640x480 with 1 Axes>"
      ]
     },
     "metadata": {},
     "output_type": "display_data"
    }
   ],
   "source": [
    "import matplotlib.pyplot as plt\n",
    "\n",
    "\n",
    "plt.bar(range(1, 14), var_exp, align='center',\n",
    "        label='Individual explained variance')\n",
    "plt.step(range(1, 14), cum_var_exp, where='mid',\n",
    "         label='Cumulative explained variance')\n",
    "plt.ylabel('Explained variance ratio')\n",
    "plt.xlabel('Principal component index')\n",
    "plt.legend(loc='best')\n",
    "plt.tight_layout()\n",
    "plt.show()"
   ]
  },
  {
   "cell_type": "code",
   "execution_count": 16,
   "id": "81c10c66-fbac-47cb-a47b-81ff97174131",
   "metadata": {},
   "outputs": [],
   "source": [
    "# Make a list of (eigenvalue, eigenvector) tuples\n",
    "eigen_pairs = [(np.abs(eigen_vals[i]), eigen_vecs[:, i])\n",
    "               for i in range(len(eigen_vals))]\n",
    "\n",
    "# Sort the (eigenvalue, eigenvector) tuples from high to low\n",
    "eigen_pairs.sort(key=lambda k: k[0], reverse=True)"
   ]
  },
  {
   "cell_type": "code",
   "execution_count": 17,
   "id": "f78081aa-5dd9-4bed-9e55-9148b5f9fb3b",
   "metadata": {},
   "outputs": [
    {
     "name": "stdout",
     "output_type": "stream",
     "text": [
      "Matrix W:\n",
      " [[-0.13724218  0.50303478]\n",
      " [ 0.24724326  0.16487119]\n",
      " [-0.02545159  0.24456476]\n",
      " [ 0.20694508 -0.11352904]\n",
      " [-0.15436582  0.28974518]\n",
      " [-0.39376952  0.05080104]\n",
      " [-0.41735106 -0.02287338]\n",
      " [ 0.30572896  0.09048885]\n",
      " [-0.30668347  0.00835233]\n",
      " [ 0.07554066  0.54977581]\n",
      " [-0.32613263 -0.20716433]\n",
      " [-0.36861022 -0.24902536]\n",
      " [-0.29669651  0.38022942]]\n"
     ]
    }
   ],
   "source": [
    "w = np.hstack((eigen_pairs[0][1][:, np.newaxis],\n",
    "               eigen_pairs[1][1][:, np.newaxis]))\n",
    "print('Matrix W:\\n', w)"
   ]
  },
  {
   "cell_type": "code",
   "execution_count": 18,
   "id": "31ef8521-72b9-456e-946c-dcfe2e480ccf",
   "metadata": {},
   "outputs": [
    {
     "data": {
      "image/png": "[encoded data removed]",
      "text/plain": [
       "<Figure size 640x480 with 1 Axes>"
      ]
     },
     "metadata": {},
     "output_type": "display_data"
    }
   ],
   "source": [
    "X_train_pca = X_train_std.dot(w)\n",
    "colors = ['r', 'b', 'g']\n",
    "markers = ['o', 's', '^']\n",
    "\n",
    "for l, c, m in zip(np.unique(y_train), colors, markers):\n",
    "    plt.scatter(X_train_pca[y_train == l, 0], \n",
    "                X_train_pca[y_train == l, 1], \n",
    "                c=c, label=f'Class {l}', marker=m)\n",
    "\n",
    "plt.xlabel('PC 1')\n",
    "plt.ylabel('PC 2')\n",
    "plt.legend(loc='lower left')\n",
    "plt.tight_layout()\n",
    "plt.show()"
   ]
  },
  {
   "cell_type": "code",
   "execution_count": null,
   "id": "565d2d1c-3148-4531-92d1-ff80764e5d79",
   "metadata": {},
   "outputs": [],
   "source": []
  }
 ],
 "metadata": {
  "kernelspec": {
   "display_name": "Python 3 (ipykernel)",
   "language": "python",
   "name": "python3"
  },
  "language_info": {
   "codemirror_mode": {
    "name": "ipython",
    "version": 3
   },
   "file_extension": ".py",
   "mimetype": "text/x-python",
   "name": "python",
   "nbconvert_exporter": "python",
   "pygments_lexer": "ipython3",
   "version": "3.10.12"
  }
 },
 "nbformat": 4,
 "nbformat_minor": 5
}
